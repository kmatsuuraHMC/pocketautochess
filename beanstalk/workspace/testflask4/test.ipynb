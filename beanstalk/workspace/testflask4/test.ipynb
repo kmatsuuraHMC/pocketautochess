{
 "cells": [
  {
   "cell_type": "code",
   "execution_count": 1,
   "metadata": {},
   "outputs": [],
   "source": [
    "import json\n",
    "from gamecontroller import *\n",
    "from application import *\n",
    "import player"
   ]
  },
  {
   "cell_type": "code",
   "execution_count": 12,
   "metadata": {},
   "outputs": [],
   "source": [
    "with open('sample_input.json') as f:\n",
    "    data = json.load(f)"
   ]
  },
  {
   "cell_type": "code",
   "execution_count": 13,
   "metadata": {},
   "outputs": [
    {
     "data": {
      "text/plain": [
       "dict"
      ]
     },
     "execution_count": 13,
     "metadata": {},
     "output_type": "execute_result"
    }
   ],
   "source": [
    "type(data)"
   ]
  },
  {
   "cell_type": "code",
   "execution_count": 15,
   "metadata": {},
   "outputs": [
    {
     "data": {
      "text/plain": [
       "{'key': 5,\n",
       " 'type': 'deploy',\n",
       " 'deploy': {'deployPhase': '1',\n",
       "  'yourTeam': [{'race': 'GobruiかGagoiruかMarutaか',\n",
       "    'x': '再大小はまだ調べてナシ float',\n",
       "    'y': '2.5',\n",
       "    'number': '1'},\n",
       "   {'race': 'Gobrui', 'x': '3.0', 'y': '5.5', 'number': '2'},\n",
       "   {'race': 'Gobrui', 'x': '3.0', 'y': '5.5', 'number': '3'},\n",
       "   {'race': 'Gobrui', 'x': '3.0', 'y': '5.5', 'number': '4'},\n",
       "   {'race': 'Gobrui', 'x': '3.0', 'y': '5.5', 'number': '5'},\n",
       "   {'race': 'Gobrui', 'x': '3.0', 'y': '5.5', 'number': '6'},\n",
       "   {'race': 'Gobrui', 'x': '3.0', 'y': '5.5', 'number': '7'},\n",
       "   {'race': 'Gobrui', 'x': '3.0', 'y': '5.5', 'number': '8'},\n",
       "   {'race': 'Gobrui', 'x': '3.0', 'y': '5.5', 'number': '9'},\n",
       "   {'race': 'Gobrui', 'x': '3.0', 'y': '5.5', 'number': '10'}]}}"
      ]
     },
     "execution_count": 15,
     "metadata": {},
     "output_type": "execute_result"
    }
   ],
   "source": [
    "data"
   ]
  },
  {
   "cell_type": "code",
   "execution_count": null,
   "metadata": {},
   "outputs": [],
   "source": []
  }
 ],
 "metadata": {
  "kernelspec": {
   "display_name": "Python 3",
   "language": "python",
   "name": "python3"
  },
  "language_info": {
   "codemirror_mode": {
    "name": "ipython",
    "version": 3
   },
   "file_extension": ".py",
   "mimetype": "text/x-python",
   "name": "python",
   "nbconvert_exporter": "python",
   "pygments_lexer": "ipython3",
   "version": "3.7.5"
  }
 },
 "nbformat": 4,
 "nbformat_minor": 4
}
